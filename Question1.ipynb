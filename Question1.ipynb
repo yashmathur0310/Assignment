{
 "cells": [
  {
   "cell_type": "code",
   "execution_count": 9,
   "id": "9feedfa7",
   "metadata": {},
   "outputs": [],
   "source": [
    "import requests\n",
    "from bs4 import BeautifulSoup"
   ]
  },
  {
   "cell_type": "code",
   "execution_count": 37,
   "id": "71f8cb0f",
   "metadata": {},
   "outputs": [],
   "source": [
    "def get_movies_descending(name):\n",
    "    name=name.replace(\" \",'_')\n",
    "    url=\"https://en.wikipedia.org/wiki/\"+name+\"_filmography\"\n",
    "    response = requests.get(url)\n",
    "    if response.status_code == 200:\n",
    "        soup = BeautifulSoup(response.text, 'html.parser')\n",
    "        movie_names = []\n",
    "        years=[]\n",
    "        rows = soup.find_all('tbody')[0].find_all('tr')\n",
    "        for row in rows:\n",
    "            title_cell = row.find('th',scope='row')\n",
    "            if title_cell:\n",
    "                movie_name = title_cell.text.strip()\n",
    "                movie_names.append(movie_name)\n",
    "        if len(movie_names)==0:\n",
    "            rows = soup.find_all('tbody')[1].find_all('tr')   \n",
    "            for row in rows:\n",
    "                title_cell = row.find('th', scope='row')\n",
    "                if title_cell:\n",
    "                    movie_name = title_cell.text.strip()\n",
    "                    movie_names.append(movie_name)\n",
    "        return movie_names[::-1]    \n",
    "    else:\n",
    "        return \"Failed to retrieve data from Google.\""
   ]
  },
  {
   "cell_type": "code",
   "execution_count": 40,
   "id": "dace9fb8",
   "metadata": {},
   "outputs": [
    {
     "name": "stdout",
     "output_type": "stream",
     "text": [
      "['Tiger 3', 'Kisi Ka Bhai Kisi Ki Jaan', 'Pathaan', 'Ved', 'Godfather', 'Antim', 'Radhe', 'Kaagaz', 'Dabangg 3', 'Bharat', 'Notebook', 'Zero', 'Loveyatri', 'Yamla Pagla Deewana: Phir Se', 'Race 3', 'Welcome to New York', 'Tiger Zinda Hai', 'Judwaa 2', 'Tubelight', \"Hanuman: Da' Damdaar\", 'Sultan', 'Prem Ratan Dhan Payo', 'Hero', 'Bajrangi Bhaijaan', 'Dr. Cabbie', 'Being Bhaijaan', 'Kick', 'Fugly', 'Lai Bhaari', 'Main Tera Hero', 'O Teri', 'Jai Ho', 'Phata Poster Nikhla Hero', 'Ishkq in Paris', 'Dabangg 2', 'Son of Sardaar', 'Ek Tha Tiger', 'Tell Me O Kkhuda', 'Bodyguard', 'Yeh Dooriyan', 'Chillar Party', 'Ready', 'Isi Life Mein...!', 'Tees Maar Khan', 'Dabangg', 'Prem Kaa Game', 'Veer', 'Ajab Prem Ki Ghazab Kahani', 'London Dreams', 'Main Aurr Mrs Khanna', 'Wanted', 'Yuvvraaj', 'Heroes', 'Hello', 'God Tussi Great Ho', 'Saawariya', 'Om Shanti Om', 'Marigold', 'Partner', 'Salaam-e-Ishq', 'Jaan-E-Mann', 'Baabul', 'Saawan', 'Shaadi Karke Phas Gaya Yaar', 'Kyon Ki', 'No Entry', 'Maine Pyaar Kyun Kiya?', 'Lucky: No Time for Love', 'Dil Ne Jise Apna Kahaa', 'Phir Milenge', 'Mujhse Shaadi Karogi', 'Garv: Pride & Honour', 'Baghban', 'Tere Naam', 'Stumped', 'Love at Times Square', 'Yeh Hai Jalwa', 'Hum Tumhare Hain Sanam', 'Tumko Na Bhool Paayenge', 'Chori Chori Chupke Chupke', 'Kahin Pyaar Na Ho Jaaye', 'Dhai Akshar Prem Ke', 'Har Dil Jo Pyar Karega', 'Chal Mere Bhai', 'Dulhan Hum Le Jayenge', 'Hum Saath-Saath Hain', 'Hello Brother', 'Hum Dil De Chuke Sanam', 'Sirf Tum', 'Biwi No.1', 'Jaanam Samjha Karo', 'Sar Utha Ke Jiyo', 'Kuch Kuch Hota Hai', 'Bandhan', 'Jab Pyaar Kisise Hota Hai', 'Pyaar Kiya To Darna Kya', 'Deewana Mastana', 'Auzaar', 'Judwaa', 'Dushman Duniya Ka', 'Jeet', 'Khamoshi: The Musical', 'Majhdhaar', 'Veergati', 'Karan Arjun', 'Sangdil Sanam', 'Andaz Apna Apna', 'Chaand Kaa Tukdaa', 'Hum Aapke Hain Koun..!', 'Dil Tera Aashiq', 'Chandra Mukhi', 'Ek Ladka Ek Ladki', 'Nishchaiy', 'Jaagruti', 'Suryavanshi', 'Love', 'Saajan', 'Kurbaan', 'Patthar Ke Phool', 'Sanam Bewafa', 'Baaghi', 'Maine Pyar Kiya', 'Biwi Ho To Aisi', 'Falak']\n"
     ]
    }
   ],
   "source": [
    "print(get_movies_descending('Salman Khan'))"
   ]
  },
  {
   "cell_type": "code",
   "execution_count": 41,
   "id": "7b9cd5f1",
   "metadata": {},
   "outputs": [
    {
     "name": "stdout",
     "output_type": "stream",
     "text": [
      "['Dunki', 'Tiger 3', 'Jawan', 'Pathaan', 'Brahmāstra: Part One – Shiva', 'Laal Singh Chaddha', 'Rocketry: The Nambi Effect', 'The Zoya Factor', 'Zero', 'Jab Harry Met Sejal', 'Tubelight', 'Raees', 'Dear Zindagi', 'Ae Dil Hai Mushkil', 'Fan', 'Dilwale', 'Happy New Year', 'Bhoothnath Returns', 'Chennai Express', 'Bombay Talkies', 'Jab Tak Hai Jaan', 'Don 2', 'Ra.One', 'Love Breakups Zindagi', 'Always Kabhi Kabhi', 'Shahrukh Bola \"Khoobsurat Hai Tu\"', 'My Name Is Khan', 'Dulha Mil Gaya', 'Billu', 'Luck by Chance', 'Rab Ne Bana Di Jodi', 'Kismat Konnection', 'Shaurya', 'Bhoothnath', 'Krazzy 4', 'Om Shanti Om', 'Heyy Babyy', 'Chak De! India', 'I See You', 'Don: The Chase Begins Again', 'Kabhi Alvida Naa Kehna', 'Alag', 'Paheli', 'Silsiilay', 'Kaal', 'Kuchh Meetha Ho Jaye', 'Swades', 'Veer-Zaara', 'Main Hoon Na', 'Yeh Lamhe Judaai Ke', 'Kal Ho Naa Ho', 'Chalte Chalte', 'Saathiya', 'Shakti: The Power', 'Devdas', 'Hum Tumhare Hain Sanam', 'Kabhi Khushi Kabhie Gham...', 'Aśoka', 'One 2 Ka 4', 'Gaja Gamini', 'Mohabbatein', 'Har Dil Jo Pyar Karega', 'Josh', 'Hey Ram', 'Phir Bhi Dil Hai Hindustani', 'Baadshah', 'Kuch Kuch Hota Hai', 'Dil Se..', 'Achanak', 'Duplicate', 'Dil To Pagal Hai', 'Pardes', 'Yes Boss', 'Koyla', 'Gudgudee', 'Dushman Duniya Ka', 'Army', 'Chaahat', 'English Babu Desi Mem', 'Trimurti', 'Ram Jaane', 'Dilwale Dulhania Le Jayenge', 'Oh Darling! Yeh Hai India!', 'Guddu', 'Zamaana Deewana', 'Karan Arjun', 'Anjaam', 'Kabhi Haan Kabhi Naa', 'Darr', 'Baazigar', 'King Uncle', 'Pehla Nasha', 'Maya Memsaab', 'Dil Aashna Hai', 'Raju Ban Gaya Gentleman', 'Chamatkar', 'Deewana']\n"
     ]
    }
   ],
   "source": [
    "print(get_movies_descending('Shah Rukh Khan'))"
   ]
  },
  {
   "cell_type": "code",
   "execution_count": 36,
   "id": "28c82f19",
   "metadata": {},
   "outputs": [
    {
     "name": "stdout",
     "output_type": "stream",
     "text": [
      "['Killers of the Flower Moon', \"Don't Look Up\", 'Ice on Fire', 'Once Upon a Time in Hollywood', 'Before the Flood', 'The Audition', 'The Revenant', 'The Wolf of Wall Street', 'The Great Gatsby', 'Django Unchained', 'J. Edgar', 'Inception', 'Hubble', 'Shutter Island', 'Revolutionary Road', 'Body of Lies', 'The 11th Hour', 'Blood Diamond', 'The Departed', 'The Aviator', 'Gangs of New York', 'Catch Me If You Can', 'The Beach', 'Celebrity', 'The Man in the Iron Mask', 'Titanic', \"Marvin's Room\", 'Romeo + Juliet', 'Total Eclipse', 'The Quick and the Dead', 'The Basketball Diaries', \"What's Eating Gilbert Grape\", \"This Boy's Life\", 'Poison Ivy', 'Critters 3']\n"
     ]
    }
   ],
   "source": [
    "get_movies_descending('Leonardo DiCaprio')"
   ]
  },
  {
   "cell_type": "code",
   "execution_count": null,
   "id": "76729ea1",
   "metadata": {},
   "outputs": [],
   "source": []
  }
 ],
 "metadata": {
  "kernelspec": {
   "display_name": "Python 3",
   "language": "python",
   "name": "python3"
  },
  "language_info": {
   "codemirror_mode": {
    "name": "ipython",
    "version": 3
   },
   "file_extension": ".py",
   "mimetype": "text/x-python",
   "name": "python",
   "nbconvert_exporter": "python",
   "pygments_lexer": "ipython3",
   "version": "3.8.5"
  }
 },
 "nbformat": 4,
 "nbformat_minor": 5
}
